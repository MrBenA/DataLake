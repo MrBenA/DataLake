{
 "cells": [
  {
   "cell_type": "code",
   "execution_count": 31,
   "metadata": {
    "editable": true
   },
   "outputs": [
    {
     "data": {
      "application/vnd.jupyter.widget-view+json": {
       "model_id": "9dddc22dbad644e78ad5ee9fdf1cfb60",
       "version_major": 2,
       "version_minor": 0
      },
      "text/plain": [
       "VBox()"
      ]
     },
     "metadata": {},
     "output_type": "display_data"
    },
    {
     "data": {
      "application/vnd.jupyter.widget-view+json": {
       "model_id": "",
       "version_major": 2,
       "version_minor": 0
      },
      "text/plain": [
       "FloatProgress(value=0.0, bar_style='info', description='Progress:', layout=Layout(height='25px', width='50%'),…"
      ]
     },
     "metadata": {},
     "output_type": "display_data"
    }
   ],
   "source": [
    "from datetime import datetime\n",
    "from pyspark.sql.functions import udf, col, monotonically_increasing_id, lit\n",
    "from pyspark.sql.functions import year, month, dayofmonth, hour, weekofyear, date_format, from_unixtime, dayofweek\n",
    "from pyspark.sql.functions import to_timestamp, to_date"
   ]
  },
  {
   "cell_type": "code",
   "execution_count": 1,
   "metadata": {
    "editable": true
   },
   "outputs": [
    {
     "data": {
      "application/vnd.jupyter.widget-view+json": {
       "model_id": "23b4742a6a25437e8581f40bf81d866e",
       "version_major": 2,
       "version_minor": 0
      },
      "text/plain": [
       "VBox()"
      ]
     },
     "metadata": {},
     "output_type": "display_data"
    },
    {
     "name": "stdout",
     "output_type": "stream",
     "text": [
      "Starting Spark application\n"
     ]
    },
    {
     "data": {
      "text/html": [
       "<table>\n",
       "<tr><th>ID</th><th>YARN Application ID</th><th>Kind</th><th>State</th><th>Spark UI</th><th>Driver log</th><th>Current session?</th></tr><tr><td>0</td><td>application_1615746192605_0001</td><td>pyspark</td><td>idle</td><td><a target=\"_blank\" href=\"http://ip-172-31-22-172.us-west-2.compute.internal:20888/proxy/application_1615746192605_0001/\">Link</a></td><td><a target=\"_blank\" href=\"http://ip-172-31-23-206.us-west-2.compute.internal:8042/node/containerlogs/container_1615746192605_0001_01_000001/livy\">Link</a></td><td>✔</td></tr></table>"
      ],
      "text/plain": [
       "<IPython.core.display.HTML object>"
      ]
     },
     "metadata": {},
     "output_type": "display_data"
    },
    {
     "data": {
      "application/vnd.jupyter.widget-view+json": {
       "model_id": "",
       "version_major": 2,
       "version_minor": 0
      },
      "text/plain": [
       "FloatProgress(value=0.0, bar_style='info', description='Progress:', layout=Layout(height='25px', width='50%'),…"
      ]
     },
     "metadata": {},
     "output_type": "display_data"
    },
    {
     "name": "stdout",
     "output_type": "stream",
     "text": [
      "SparkSession available as 'spark'.\n"
     ]
    },
    {
     "data": {
      "application/vnd.jupyter.widget-view+json": {
       "model_id": "",
       "version_major": 2,
       "version_minor": 0
      },
      "text/plain": [
       "FloatProgress(value=0.0, bar_style='info', description='Progress:', layout=Layout(height='25px', width='50%'),…"
      ]
     },
     "metadata": {},
     "output_type": "display_data"
    }
   ],
   "source": [
    "from pyspark.sql.types import StructType as R, StructField as Fld, DoubleType as Dbl, StringType as Str, IntegerType as Int, DateType as Date, TimestampType\n",
    "song_schema = R([\n",
    "    Fld('artist_id', Str(), True),\n",
    "    Fld('artist_latitude', Dbl()),\n",
    "    Fld('artist_location', Str()),\n",
    "    Fld('artist_longitude', Dbl()),\n",
    "    Fld('artist_name', Str()),\n",
    "    Fld('duration', Dbl()),\n",
    "    Fld('num_songs', Int()),\n",
    "    Fld('song_id', Str()),\n",
    "    Fld('title', Str()),\n",
    "    Fld('year', Int()),\n",
    "])"
   ]
  },
  {
   "cell_type": "code",
   "execution_count": 7,
   "metadata": {
    "editable": true
   },
   "outputs": [
    {
     "data": {
      "application/vnd.jupyter.widget-view+json": {
       "model_id": "198761444bf141bfb91d77f5e1615479",
       "version_major": 2,
       "version_minor": 0
      },
      "text/plain": [
       "VBox()"
      ]
     },
     "metadata": {},
     "output_type": "display_data"
    },
    {
     "data": {
      "application/vnd.jupyter.widget-view+json": {
       "model_id": "",
       "version_major": 2,
       "version_minor": 0
      },
      "text/plain": [
       "FloatProgress(value=0.0, bar_style='info', description='Progress:', layout=Layout(height='25px', width='50%'),…"
      ]
     },
     "metadata": {},
     "output_type": "display_data"
    }
   ],
   "source": [
    "song_data = 's3://udacity-dend/song_data/*/*/*/*.json'\n",
    "df = spark.read.json(song_data, song_schema)"
   ]
  },
  {
   "cell_type": "code",
   "execution_count": 8,
   "metadata": {
    "editable": true
   },
   "outputs": [
    {
     "data": {
      "application/vnd.jupyter.widget-view+json": {
       "model_id": "ef421d40e399486296e70ddc6003df7e",
       "version_major": 2,
       "version_minor": 0
      },
      "text/plain": [
       "VBox()"
      ]
     },
     "metadata": {},
     "output_type": "display_data"
    },
    {
     "data": {
      "application/vnd.jupyter.widget-view+json": {
       "model_id": "",
       "version_major": 2,
       "version_minor": 0
      },
      "text/plain": [
       "FloatProgress(value=0.0, bar_style='info', description='Progress:', layout=Layout(height='25px', width='50%'),…"
      ]
     },
     "metadata": {},
     "output_type": "display_data"
    },
    {
     "name": "stdout",
     "output_type": "stream",
     "text": [
      "root\n",
      " |-- artist_id: string (nullable = true)\n",
      " |-- artist_latitude: double (nullable = true)\n",
      " |-- artist_location: string (nullable = true)\n",
      " |-- artist_longitude: double (nullable = true)\n",
      " |-- artist_name: string (nullable = true)\n",
      " |-- duration: double (nullable = true)\n",
      " |-- num_songs: integer (nullable = true)\n",
      " |-- song_id: string (nullable = true)\n",
      " |-- title: string (nullable = true)\n",
      " |-- year: integer (nullable = true)\n",
      "\n",
      "+------------------+---------------+--------------------+----------------+--------------------+---------+---------+------------------+--------------------+----+\n",
      "|         artist_id|artist_latitude|     artist_location|artist_longitude|         artist_name| duration|num_songs|           song_id|               title|year|\n",
      "+------------------+---------------+--------------------+----------------+--------------------+---------+---------+------------------+--------------------+----+\n",
      "|AR4T2IF1187B9ADBB7|       63.96027|<a href=\"http://b...|        10.22442|          Billy Idol|233.22077|        1|SOVIYJY12AF72A4B00|The Dead Next Doo...|1983|\n",
      "|AR4T2IF1187B9ADBB7|       63.96027|<a href=\"http://b...|        10.22442|          Billy Idol|287.92118|        1|SOVYXYL12AF72A3373|Rebel Yell (1999 ...|1983|\n",
      "|ARQ846I1187B9A7083|           null|                    |            null|Yvonne S. Moriart...|196.04853|        1|SOEPTVC12A67ADD0DA|To Zucchabar [\"Gl...|   0|\n",
      "|AR4T2IF1187B9ADBB7|       63.96027|<a href=\"http://b...|        10.22442|          Billy Idol|247.53587|        1|SOLQYSZ12AB0181F97|    Mony Mony (Live)|1987|\n",
      "|AR3TZ691187FB3DBB1|           null|                    |            null|Russell Watson / ...|273.44934|        1|SOVPFJK12A6701CB16|Barcelona - (Frie...|2000|\n",
      "+------------------+---------------+--------------------+----------------+--------------------+---------+---------+------------------+--------------------+----+\n",
      "only showing top 5 rows\n",
      "\n",
      "+-------+------------------+------------------+------------------+------------------+------------------+------------------+---------+------------------+-----------------+------------------+\n",
      "|summary|         artist_id|   artist_latitude|   artist_location|  artist_longitude|       artist_name|          duration|num_songs|           song_id|            title|              year|\n",
      "+-------+------------------+------------------+------------------+------------------+------------------+------------------+---------+------------------+-----------------+------------------+\n",
      "|  count|             14896|              5277|             14895|              5277|             14896|             14896|    14896|             14896|            14896|             14896|\n",
      "|   mean|              null|39.560972234224025|140.33333333333334|-56.68501689747969|3139.2380952380954|246.77939752953804|      1.0|              null|581.6631578947369|1360.5122851772287|\n",
      "| stddev|              null|15.657061009621648| 204.5310971392118| 55.17319944588831|7359.4695862185745|110.00572654979528|      0.0|              null|876.8867785844078| 932.6891909627191|\n",
      "|    min|AR00B1I1187FB433EB|          -45.8745|                  |        -155.43414|               !!!|           6.37342|        1|SOAAAQN12AB01856D3|  Dry Techterlech|                 0|\n",
      "|    max|ARZZXT51187FB4627E|          69.65102|  �gelholm, Sweden|         175.47131|    Ólafur Arnalds|         2709.2371|        1|SOZZZON12A8C139ED5|             Üres|              2010|\n",
      "+-------+------------------+------------------+------------------+------------------+------------------+------------------+---------+------------------+-----------------+------------------+"
     ]
    }
   ],
   "source": [
    "df.printSchema()\n",
    "df.show(5)\n",
    "df.describe().show()"
   ]
  },
  {
   "cell_type": "markdown",
   "metadata": {
    "editable": true
   },
   "source": [
    "# Create Songs Table"
   ]
  },
  {
   "cell_type": "code",
   "execution_count": 10,
   "metadata": {
    "editable": true
   },
   "outputs": [
    {
     "data": {
      "application/vnd.jupyter.widget-view+json": {
       "model_id": "4093a6c11320488cbc58db60a8b5ea49",
       "version_major": 2,
       "version_minor": 0
      },
      "text/plain": [
       "VBox()"
      ]
     },
     "metadata": {},
     "output_type": "display_data"
    },
    {
     "data": {
      "application/vnd.jupyter.widget-view+json": {
       "model_id": "",
       "version_major": 2,
       "version_minor": 0
      },
      "text/plain": [
       "FloatProgress(value=0.0, bar_style='info', description='Progress:', layout=Layout(height='25px', width='50%'),…"
      ]
     },
     "metadata": {},
     "output_type": "display_data"
    },
    {
     "name": "stdout",
     "output_type": "stream",
     "text": [
      "root\n",
      " |-- song_id: string (nullable = true)\n",
      " |-- title: string (nullable = true)\n",
      " |-- artist_id: string (nullable = true)\n",
      " |-- year: integer (nullable = true)\n",
      " |-- duration: double (nullable = true)\n",
      "\n",
      "+------------------+--------------------+------------------+----+---------+\n",
      "|           song_id|               title|         artist_id|year| duration|\n",
      "+------------------+--------------------+------------------+----+---------+\n",
      "|SOJWWEV12A8C136B97|Last Rose Of Summ...|AR4FBUO1187B9B6072|2005|260.04853|\n",
      "|SOUJLXS12A3F1ECF59|Catholic Knees (A...|ARG9CID1187B9AB010|2009|168.25424|\n",
      "|SOBGZZO12A6701CD25|Keep The Circle A...|AR9AM2N1187B9AD2F1|1999|230.05995|\n",
      "|SOZIUVT12A6D4F67A0|Now I'm Here (Liv...|ARNLO2P1187B9A3ECD|   0|418.48118|\n",
      "|SOMCMZX12A67AE0221|         The Old Sod|ARBW7IC1187B9908CE|1990|202.63138|\n",
      "+------------------+--------------------+------------------+----+---------+\n",
      "only showing top 5 rows\n",
      "\n",
      "+-------+------------------+-----------------+------------------+------------------+------------------+\n",
      "|summary|           song_id|            title|         artist_id|              year|          duration|\n",
      "+-------+------------------+-----------------+------------------+------------------+------------------+\n",
      "|  count|             14896|            14896|             14896|             14896|             14896|\n",
      "|   mean|              null|581.6631578947369|              null|1360.5122851772287|246.77939752953796|\n",
      "| stddev|              null|876.8867785844079|              null|  932.689190962719|110.00572654979533|\n",
      "|    min|SOAAAQN12AB01856D3|  Dry Techterlech|AR00B1I1187FB433EB|                 0|           6.37342|\n",
      "|    max|SOZZZON12A8C139ED5|             Üres|ARZZXT51187FB4627E|              2010|         2709.2371|\n",
      "+-------+------------------+-----------------+------------------+------------------+------------------+"
     ]
    }
   ],
   "source": [
    "song_table = df.select('song_id', 'title', 'artist_id', 'year', 'duration').dropDuplicates()\n",
    "song_table.printSchema()\n",
    "song_table.show(5)\n",
    "song_table.describe().show()"
   ]
  },
  {
   "cell_type": "markdown",
   "metadata": {
    "editable": true
   },
   "source": [
    "### Create parquet files"
   ]
  },
  {
   "cell_type": "code",
   "execution_count": 11,
   "metadata": {
    "editable": true
   },
   "outputs": [
    {
     "data": {
      "application/vnd.jupyter.widget-view+json": {
       "model_id": "98ef956795e24fbc9e99c3be9a31b1b7",
       "version_major": 2,
       "version_minor": 0
      },
      "text/plain": [
       "VBox()"
      ]
     },
     "metadata": {},
     "output_type": "display_data"
    },
    {
     "data": {
      "application/vnd.jupyter.widget-view+json": {
       "model_id": "",
       "version_major": 2,
       "version_minor": 0
      },
      "text/plain": [
       "FloatProgress(value=0.0, bar_style='info', description='Progress:', layout=Layout(height='25px', width='50%'),…"
      ]
     },
     "metadata": {},
     "output_type": "display_data"
    }
   ],
   "source": [
    "song_table.write.partitionBy('year', 'artist_id').mode(\"overwrite\").parquet('s3://sparkifydb-data/songs')"
   ]
  },
  {
   "cell_type": "markdown",
   "metadata": {
    "editable": true
   },
   "source": [
    "# Create Artists table"
   ]
  },
  {
   "cell_type": "code",
   "execution_count": 12,
   "metadata": {
    "editable": true
   },
   "outputs": [
    {
     "data": {
      "application/vnd.jupyter.widget-view+json": {
       "model_id": "b605f39f63374a7dbbd0701fdc235b7a",
       "version_major": 2,
       "version_minor": 0
      },
      "text/plain": [
       "VBox()"
      ]
     },
     "metadata": {},
     "output_type": "display_data"
    },
    {
     "data": {
      "application/vnd.jupyter.widget-view+json": {
       "model_id": "",
       "version_major": 2,
       "version_minor": 0
      },
      "text/plain": [
       "FloatProgress(value=0.0, bar_style='info', description='Progress:', layout=Layout(height='25px', width='50%'),…"
      ]
     },
     "metadata": {},
     "output_type": "display_data"
    },
    {
     "name": "stdout",
     "output_type": "stream",
     "text": [
      "root\n",
      " |-- artist_id: string (nullable = true)\n",
      " |-- artist_name: string (nullable = true)\n",
      " |-- artist_location: string (nullable = true)\n",
      " |-- artist_latitude: double (nullable = true)\n",
      " |-- artist_longitude: double (nullable = true)\n",
      "\n",
      "+------------------+--------------------+--------------------+---------------+----------------+\n",
      "|         artist_id|         artist_name|     artist_location|artist_latitude|artist_longitude|\n",
      "+------------------+--------------------+--------------------+---------------+----------------+\n",
      "|ARLMHFV1187B9A3833|       Smif-n-Wessun|New York, NY [Bro...|       40.65507|       -73.94888|\n",
      "|ARI66OL1187B9AFA5B|          Wilderness|       Baltimore, MD|       39.29055|        -76.6096|\n",
      "|ARTNON61187B98D6EE|               Elbow| Manchester, England|           null|            null|\n",
      "|ARBHW3X1187B999013|La Oreja de Van Gogh|                    |           null|            null|\n",
      "|ARF3HEO1187B9AF2F4|    Donnie McClurkin|                    |           null|            null|\n",
      "+------------------+--------------------+--------------------+---------------+----------------+\n",
      "only showing top 5 rows\n",
      "\n",
      "+-------+------------------+-----------------+------------------+-----------------+------------------+\n",
      "|summary|         artist_id|      artist_name|   artist_location|  artist_latitude|  artist_longitude|\n",
      "+-------+------------------+-----------------+------------------+-----------------+------------------+\n",
      "|  count|             10025|            10025|             10024|             3438|              3438|\n",
      "|   mean|              null|4256.416666666667|161.11111111111111|39.38285229203023|-57.94428848981961|\n",
      "| stddev|              null|9735.315080658507|234.70164275332866| 15.1649131814531| 55.29813639502509|\n",
      "|    min|AR00B1I1187FB433EB|              !!!|                  |         -45.8745|        -155.43414|\n",
      "|    max|ARZZXT51187FB4627E|   Ólafur Arnalds|  �gelholm, Sweden|         69.65102|         175.47131|\n",
      "+-------+------------------+-----------------+------------------+-----------------+------------------+"
     ]
    }
   ],
   "source": [
    "artists_table = df.select('artist_id', 'artist_name', 'artist_location', 'artist_latitude', 'artist_longitude').dropDuplicates()\n",
    "artists_table.printSchema()\n",
    "artists_table.show(5)\n",
    "artists_table.describe().show()"
   ]
  },
  {
   "cell_type": "markdown",
   "metadata": {
    "editable": true
   },
   "source": [
    "### Create Parquet files"
   ]
  },
  {
   "cell_type": "code",
   "execution_count": 13,
   "metadata": {
    "editable": true
   },
   "outputs": [
    {
     "data": {
      "application/vnd.jupyter.widget-view+json": {
       "model_id": "525f29ed6daa48c1b585bdd2f32e7d03",
       "version_major": 2,
       "version_minor": 0
      },
      "text/plain": [
       "VBox()"
      ]
     },
     "metadata": {},
     "output_type": "display_data"
    },
    {
     "data": {
      "application/vnd.jupyter.widget-view+json": {
       "model_id": "",
       "version_major": 2,
       "version_minor": 0
      },
      "text/plain": [
       "FloatProgress(value=0.0, bar_style='info', description='Progress:', layout=Layout(height='25px', width='50%'),…"
      ]
     },
     "metadata": {},
     "output_type": "display_data"
    }
   ],
   "source": [
    "artists_table.write.mode(\"overwrite\").parquet('s3://sparkifydb-data/artists')"
   ]
  },
  {
   "cell_type": "code",
   "execution_count": null,
   "metadata": {
    "editable": true
   },
   "outputs": [],
   "source": []
  },
  {
   "cell_type": "code",
   "execution_count": null,
   "metadata": {
    "editable": true
   },
   "outputs": [],
   "source": []
  },
  {
   "cell_type": "markdown",
   "metadata": {
    "editable": true
   },
   "source": [
    "# Read all log data"
   ]
  },
  {
   "cell_type": "code",
   "execution_count": 20,
   "metadata": {
    "editable": true
   },
   "outputs": [
    {
     "data": {
      "application/vnd.jupyter.widget-view+json": {
       "model_id": "c3e7b8a747ca4ee5b60685bd83b9ed6a",
       "version_major": 2,
       "version_minor": 0
      },
      "text/plain": [
       "VBox()"
      ]
     },
     "metadata": {},
     "output_type": "display_data"
    },
    {
     "data": {
      "application/vnd.jupyter.widget-view+json": {
       "model_id": "",
       "version_major": 2,
       "version_minor": 0
      },
      "text/plain": [
       "FloatProgress(value=0.0, bar_style='info', description='Progress:', layout=Layout(height='25px', width='50%'),…"
      ]
     },
     "metadata": {},
     "output_type": "display_data"
    }
   ],
   "source": [
    "log_data = 's3://udacity-dend/log_data/*/*/*.json'\n",
    "df2 = spark.read.json(log_data)"
   ]
  },
  {
   "cell_type": "code",
   "execution_count": 22,
   "metadata": {
    "editable": true
   },
   "outputs": [
    {
     "data": {
      "application/vnd.jupyter.widget-view+json": {
       "model_id": "56054570eb0648f4928f3395151d2db7",
       "version_major": 2,
       "version_minor": 0
      },
      "text/plain": [
       "VBox()"
      ]
     },
     "metadata": {},
     "output_type": "display_data"
    },
    {
     "data": {
      "application/vnd.jupyter.widget-view+json": {
       "model_id": "",
       "version_major": 2,
       "version_minor": 0
      },
      "text/plain": [
       "FloatProgress(value=0.0, bar_style='info', description='Progress:', layout=Layout(height='25px', width='50%'),…"
      ]
     },
     "metadata": {},
     "output_type": "display_data"
    },
    {
     "name": "stdout",
     "output_type": "stream",
     "text": [
      "root\n",
      " |-- artist: string (nullable = true)\n",
      " |-- auth: string (nullable = true)\n",
      " |-- firstName: string (nullable = true)\n",
      " |-- gender: string (nullable = true)\n",
      " |-- itemInSession: long (nullable = true)\n",
      " |-- lastName: string (nullable = true)\n",
      " |-- length: double (nullable = true)\n",
      " |-- level: string (nullable = true)\n",
      " |-- location: string (nullable = true)\n",
      " |-- method: string (nullable = true)\n",
      " |-- page: string (nullable = true)\n",
      " |-- registration: double (nullable = true)\n",
      " |-- sessionId: long (nullable = true)\n",
      " |-- song: string (nullable = true)\n",
      " |-- status: long (nullable = true)\n",
      " |-- ts: long (nullable = true)\n",
      " |-- userAgent: string (nullable = true)\n",
      " |-- userId: string (nullable = true)\n",
      "\n",
      "+-----------+---------+---------+------+-------------+--------+---------+-----+--------------------+------+--------+-----------------+---------+---------------+------+-------------+--------------------+------+\n",
      "|     artist|     auth|firstName|gender|itemInSession|lastName|   length|level|            location|method|    page|     registration|sessionId|           song|status|           ts|           userAgent|userId|\n",
      "+-----------+---------+---------+------+-------------+--------+---------+-----+--------------------+------+--------+-----------------+---------+---------------+------+-------------+--------------------+------+\n",
      "|   Harmonia|Logged In|     Ryan|     M|            0|   Smith|655.77751| free|San Jose-Sunnyval...|   PUT|NextSong|1.541016707796E12|      583|  Sehr kosmisch|   200|1542241826796|\"Mozilla/5.0 (X11...|    26|\n",
      "|The Prodigy|Logged In|     Ryan|     M|            1|   Smith|260.07465| free|San Jose-Sunnyval...|   PUT|NextSong|1.541016707796E12|      583|The Big Gundown|   200|1542242481796|\"Mozilla/5.0 (X11...|    26|\n",
      "|      Train|Logged In|     Ryan|     M|            2|   Smith|205.45261| free|San Jose-Sunnyval...|   PUT|NextSong|1.541016707796E12|      583|       Marry Me|   200|1542242741796|\"Mozilla/5.0 (X11...|    26|\n",
      "|       null|Logged In|    Wyatt|     M|            0|   Scott|     null| free|Eureka-Arcata-For...|   GET|    Home|1.540872073796E12|      563|           null|   200|1542247071796|Mozilla/5.0 (Wind...|     9|\n",
      "|       null|Logged In|   Austin|     M|            0| Rosales|     null| free|New York-Newark-J...|   GET|    Home|1.541059521796E12|      521|           null|   200|1542252577796|Mozilla/5.0 (Wind...|    12|\n",
      "+-----------+---------+---------+------+-------------+--------+---------+-----+--------------------+------+--------+-----------------+---------+---------------+------+-------------+--------------------+------+\n",
      "only showing top 5 rows\n",
      "\n",
      "+-------+------------------+----------+---------+------+-----------------+--------+------------------+-----+--------------------+------+-------+--------------------+-----------------+--------------------+------------------+--------------------+--------------------+------------------+\n",
      "|summary|            artist|      auth|firstName|gender|    itemInSession|lastName|            length|level|            location|method|   page|        registration|        sessionId|                song|            status|                  ts|           userAgent|            userId|\n",
      "+-------+------------------+----------+---------+------+-----------------+--------+------------------+-----+--------------------+------+-------+--------------------+-----------------+--------------------+------------------+--------------------+--------------------+------------------+\n",
      "|  count|              6820|      8056|     7770|  7770|             8056|    7770|              6820| 8056|                7770|  8056|   8056|                7770|             8056|                6820|              8056|                8056|                7770|              8056|\n",
      "|   mean|             266.5|      null|     null|  null|21.19885799404171|    null|247.03222091348917| null|                null|  null|   null|1.540777905900890...|598.1675769612712|  1388.3636363636363|  202.897591857001|1.542486261744982...|                null| 54.46396396396396|\n",
      "| stddev|109.00229355385143|      null|     null|  null|23.44069852942328|    null|102.97592081740872| null|                null|  null|   null| 2.651571766115983E8|285.3130942218801|  2347.5150807919113|17.994255629646265| 7.003166302061677E8|                null|28.168503533430734|\n",
      "|    min|               !!!| Logged In|   Adelyn|     F|                0|Arellano|          15.85587| free|Atlanta-Sandy Spr...|   GET|  About|   1.539908999796E12|                3| I Will Not Reap ...|               200|       1541105830796|\"Mozilla/5.0 (Mac...|                  |\n",
      "|    max|   ÃÂtienne Daho|Logged Out|  Zachary|     M|              127|   Young|        2594.87302| paid|       Yuba City, CA|   PUT|Upgrade|   1.541098488796E12|             1114|ÃÂ Aqui Que Se ...|               404|       1543607664796|Mozilla/5.0 (comp...|                99|\n",
      "+-------+------------------+----------+---------+------+-----------------+--------+------------------+-----+--------------------+------+-------+--------------------+-----------------+--------------------+------------------+--------------------+--------------------+------------------+"
     ]
    }
   ],
   "source": [
    "df2.printSchema()\n",
    "df2.show(5)\n",
    "df2.describe().show()"
   ]
  },
  {
   "cell_type": "code",
   "execution_count": 26,
   "metadata": {
    "editable": true
   },
   "outputs": [
    {
     "data": {
      "application/vnd.jupyter.widget-view+json": {
       "model_id": "b69cb658aba64b1e95592297ffbf54a7",
       "version_major": 2,
       "version_minor": 0
      },
      "text/plain": [
       "VBox()"
      ]
     },
     "metadata": {},
     "output_type": "display_data"
    },
    {
     "data": {
      "application/vnd.jupyter.widget-view+json": {
       "model_id": "",
       "version_major": 2,
       "version_minor": 0
      },
      "text/plain": [
       "FloatProgress(value=0.0, bar_style='info', description='Progress:', layout=Layout(height='25px', width='50%'),…"
      ]
     },
     "metadata": {},
     "output_type": "display_data"
    },
    {
     "name": "stdout",
     "output_type": "stream",
     "text": [
      "+-----------+---------+---------+------+-------------+--------+---------+-----+--------------------+------+--------+-----------------+---------+--------------------+------+-------------+--------------------+------+\n",
      "|     artist|     auth|firstName|gender|itemInSession|lastName|   length|level|            location|method|    page|     registration|sessionId|                song|status|           ts|           userAgent|userId|\n",
      "+-----------+---------+---------+------+-------------+--------+---------+-----+--------------------+------+--------+-----------------+---------+--------------------+------+-------------+--------------------+------+\n",
      "|   Harmonia|Logged In|     Ryan|     M|            0|   Smith|655.77751| free|San Jose-Sunnyval...|   PUT|NextSong|1.541016707796E12|      583|       Sehr kosmisch|   200|1542241826796|\"Mozilla/5.0 (X11...|    26|\n",
      "|The Prodigy|Logged In|     Ryan|     M|            1|   Smith|260.07465| free|San Jose-Sunnyval...|   PUT|NextSong|1.541016707796E12|      583|     The Big Gundown|   200|1542242481796|\"Mozilla/5.0 (X11...|    26|\n",
      "|      Train|Logged In|     Ryan|     M|            2|   Smith|205.45261| free|San Jose-Sunnyval...|   PUT|NextSong|1.541016707796E12|      583|            Marry Me|   200|1542242741796|\"Mozilla/5.0 (X11...|    26|\n",
      "|Sony Wonder|Logged In|   Samuel|     M|            0|Gonzalez|218.06975| free|Houston-The Woodl...|   PUT|NextSong|1.540492941796E12|      597|           Blackbird|   200|1542253449796|\"Mozilla/5.0 (Mac...|    61|\n",
      "|  Van Halen|Logged In|    Tegan|     F|            2|  Levine|289.38404| paid|Portland-South Po...|   PUT|NextSong|1.540794356796E12|      602|Best Of Both Worl...|   200|1542260935796|\"Mozilla/5.0 (Mac...|    80|\n",
      "+-----------+---------+---------+------+-------------+--------+---------+-----+--------------------+------+--------+-----------------+---------+--------------------+------+-------------+--------------------+------+\n",
      "only showing top 5 rows\n",
      "\n",
      "+-------+------------------+---------+---------+------+------------------+--------+------------------+-----+--------------------+------+--------+--------------------+-----------------+--------------------+------+--------------------+--------------------+-----------------+\n",
      "|summary|            artist|     auth|firstName|gender|     itemInSession|lastName|            length|level|            location|method|    page|        registration|        sessionId|                song|status|                  ts|           userAgent|           userId|\n",
      "+-------+------------------+---------+---------+------+------------------+--------+------------------+-----+--------------------+------+--------+--------------------+-----------------+--------------------+------+--------------------+--------------------+-----------------+\n",
      "|  count|              6820|     6820|     6820|  6820|              6820|    6820|              6820| 6820|                6820|  6820|    6820|                6820|             6820|                6820|  6820|                6820|                6820|             6820|\n",
      "|   mean|             266.5|     null|     null|  null|22.761143695014663|    null|247.03222091348917| null|                null|  null|    null|1.540778618854797...|599.1818181818181|  1388.3636363636363| 200.0|1.542485482323272...|                null|54.68123167155425|\n",
      "| stddev|109.00229355385143|     null|     null|  null|23.444636081691684|    null|102.97592081740872| null|                null|  null|    null|2.6274240255176955E8|284.9533328431849|  2347.5150807919113|   0.0|  7.00323587164323E8|                null|28.16273441215239|\n",
      "|    min|               !!!|Logged In|   Adelyn|     F|                 0|Arellano|          15.85587| free|Atlanta-Sandy Spr...|   PUT|NextSong|   1.539908999796E12|                3| I Will Not Reap ...|   200|       1541106106796|\"Mozilla/5.0 (Mac...|               10|\n",
      "|    max|   ÃÂtienne Daho|Logged In|  Zachary|     M|               126|   Young|        2594.87302| paid|       Yuba City, CA|   PUT|NextSong|   1.541098488796E12|             1114|ÃÂ Aqui Que Se ...|   200|       1543607664796|Mozilla/5.0 (comp...|               99|\n",
      "+-------+------------------+---------+---------+------+------------------+--------+------------------+-----+--------------------+------+--------+--------------------+-----------------+--------------------+------+--------------------+--------------------+-----------------+"
     ]
    }
   ],
   "source": [
    "df_nextsong = df2.filter(col(\"page\") == 'NextSong')\n",
    "df_nextsong.show(5)\n",
    "df_nextsong.describe().show()"
   ]
  },
  {
   "cell_type": "markdown",
   "metadata": {
    "editable": true
   },
   "source": [
    "## User Table"
   ]
  },
  {
   "cell_type": "code",
   "execution_count": 27,
   "metadata": {
    "editable": true
   },
   "outputs": [
    {
     "data": {
      "application/vnd.jupyter.widget-view+json": {
       "model_id": "6a130d0fe22641cc83121b244e0cad7c",
       "version_major": 2,
       "version_minor": 0
      },
      "text/plain": [
       "VBox()"
      ]
     },
     "metadata": {},
     "output_type": "display_data"
    },
    {
     "data": {
      "application/vnd.jupyter.widget-view+json": {
       "model_id": "",
       "version_major": 2,
       "version_minor": 0
      },
      "text/plain": [
       "FloatProgress(value=0.0, bar_style='info', description='Progress:', layout=Layout(height='25px', width='50%'),…"
      ]
     },
     "metadata": {},
     "output_type": "display_data"
    },
    {
     "name": "stdout",
     "output_type": "stream",
     "text": [
      "root\n",
      " |-- userId: string (nullable = true)\n",
      " |-- firstName: string (nullable = true)\n",
      " |-- lastName: string (nullable = true)\n",
      " |-- gender: string (nullable = true)\n",
      " |-- level: string (nullable = true)\n",
      "\n",
      "+------+---------+--------+------+-----+\n",
      "|userId|firstName|lastName|gender|level|\n",
      "+------+---------+--------+------+-----+\n",
      "|    57|Katherine|     Gay|     F| free|\n",
      "|    84|  Shakira|    Hunt|     F| free|\n",
      "|    22|     Sean|  Wilson|     F| free|\n",
      "|    52| Theodore|   Smith|     M| free|\n",
      "|    80|    Tegan|  Levine|     F| paid|\n",
      "+------+---------+--------+------+-----+\n",
      "only showing top 5 rows\n",
      "\n",
      "+-------+------------------+---------+--------+------+-----+\n",
      "|summary|            userId|firstName|lastName|gender|level|\n",
      "+-------+------------------+---------+--------+------+-----+\n",
      "|  count|               104|      104|     104|   104|  104|\n",
      "|   mean| 51.50961538461539|     null|    null|  null| null|\n",
      "| stddev|29.035296629035354|     null|    null|  null| null|\n",
      "|    min|                10|   Adelyn|Arellano|     F| free|\n",
      "|    max|                99|  Zachary|   Young|     M| paid|\n",
      "+-------+------------------+---------+--------+------+-----+"
     ]
    }
   ],
   "source": [
    "users_table = df_nextsong.select('userId', 'firstName', 'lastName', 'gender', 'level').dropDuplicates()\n",
    "users_table.printSchema()\n",
    "users_table.show(5)\n",
    "users_table.describe().show()"
   ]
  },
  {
   "cell_type": "markdown",
   "metadata": {
    "editable": true
   },
   "source": [
    "### create parquet files"
   ]
  },
  {
   "cell_type": "code",
   "execution_count": 28,
   "metadata": {
    "editable": true
   },
   "outputs": [
    {
     "data": {
      "application/vnd.jupyter.widget-view+json": {
       "model_id": "f3696ac9e1bf4faf81819626c697a1a0",
       "version_major": 2,
       "version_minor": 0
      },
      "text/plain": [
       "VBox()"
      ]
     },
     "metadata": {},
     "output_type": "display_data"
    },
    {
     "data": {
      "application/vnd.jupyter.widget-view+json": {
       "model_id": "",
       "version_major": 2,
       "version_minor": 0
      },
      "text/plain": [
       "FloatProgress(value=0.0, bar_style='info', description='Progress:', layout=Layout(height='25px', width='50%'),…"
      ]
     },
     "metadata": {},
     "output_type": "display_data"
    }
   ],
   "source": [
    "users_table.write.mode(\"overwrite\").parquet('s3://sparkifydb-data/users')"
   ]
  },
  {
   "cell_type": "markdown",
   "metadata": {
    "editable": true
   },
   "source": [
    "# Add timestamp column"
   ]
  },
  {
   "cell_type": "code",
   "execution_count": 32,
   "metadata": {
    "editable": true
   },
   "outputs": [
    {
     "data": {
      "application/vnd.jupyter.widget-view+json": {
       "model_id": "3d531cbddd714c53a89eb6ec4f483579",
       "version_major": 2,
       "version_minor": 0
      },
      "text/plain": [
       "VBox()"
      ]
     },
     "metadata": {},
     "output_type": "display_data"
    },
    {
     "data": {
      "application/vnd.jupyter.widget-view+json": {
       "model_id": "",
       "version_major": 2,
       "version_minor": 0
      },
      "text/plain": [
       "FloatProgress(value=0.0, bar_style='info', description='Progress:', layout=Layout(height='25px', width='50%'),…"
      ]
     },
     "metadata": {},
     "output_type": "display_data"
    },
    {
     "name": "stdout",
     "output_type": "stream",
     "text": [
      "+-----------+---------+---------+------+-------------+--------+---------+-----+--------------------+------+--------+-----------------+---------+--------------------+------+-------------+--------------------+------+--------------------+\n",
      "|     artist|     auth|firstName|gender|itemInSession|lastName|   length|level|            location|method|    page|     registration|sessionId|                song|status|           ts|           userAgent|userId|          start_time|\n",
      "+-----------+---------+---------+------+-------------+--------+---------+-----+--------------------+------+--------+-----------------+---------+--------------------+------+-------------+--------------------+------+--------------------+\n",
      "|   Harmonia|Logged In|     Ryan|     M|            0|   Smith|655.77751| free|San Jose-Sunnyval...|   PUT|NextSong|1.541016707796E12|      583|       Sehr kosmisch|   200|1542241826796|\"Mozilla/5.0 (X11...|    26|2018-11-15 00:30:...|\n",
      "|The Prodigy|Logged In|     Ryan|     M|            1|   Smith|260.07465| free|San Jose-Sunnyval...|   PUT|NextSong|1.541016707796E12|      583|     The Big Gundown|   200|1542242481796|\"Mozilla/5.0 (X11...|    26|2018-11-15 00:41:...|\n",
      "|      Train|Logged In|     Ryan|     M|            2|   Smith|205.45261| free|San Jose-Sunnyval...|   PUT|NextSong|1.541016707796E12|      583|            Marry Me|   200|1542242741796|\"Mozilla/5.0 (X11...|    26|2018-11-15 00:45:...|\n",
      "|Sony Wonder|Logged In|   Samuel|     M|            0|Gonzalez|218.06975| free|Houston-The Woodl...|   PUT|NextSong|1.540492941796E12|      597|           Blackbird|   200|1542253449796|\"Mozilla/5.0 (Mac...|    61|2018-11-15 03:44:...|\n",
      "|  Van Halen|Logged In|    Tegan|     F|            2|  Levine|289.38404| paid|Portland-South Po...|   PUT|NextSong|1.540794356796E12|      602|Best Of Both Worl...|   200|1542260935796|\"Mozilla/5.0 (Mac...|    80|2018-11-15 05:48:...|\n",
      "+-----------+---------+---------+------+-------------+--------+---------+-----+--------------------+------+--------+-----------------+---------+--------------------+------+-------------+--------------------+------+--------------------+\n",
      "only showing top 5 rows"
     ]
    }
   ],
   "source": [
    "get_timestamp = udf(lambda x: datetime.fromtimestamp(x / 1000), TimestampType())\n",
    "df_nextsong = df_nextsong.withColumn(\"start_time\", get_timestamp(df2.ts))\n",
    "df_nextsong.show(5)"
   ]
  },
  {
   "cell_type": "markdown",
   "metadata": {
    "editable": true
   },
   "source": [
    "# Create Time table"
   ]
  },
  {
   "cell_type": "code",
   "execution_count": 41,
   "metadata": {
    "editable": true
   },
   "outputs": [
    {
     "data": {
      "application/vnd.jupyter.widget-view+json": {
       "model_id": "fc0ebea7258a4bfb98b85431514480c3",
       "version_major": 2,
       "version_minor": 0
      },
      "text/plain": [
       "VBox()"
      ]
     },
     "metadata": {},
     "output_type": "display_data"
    },
    {
     "data": {
      "application/vnd.jupyter.widget-view+json": {
       "model_id": "",
       "version_major": 2,
       "version_minor": 0
      },
      "text/plain": [
       "FloatProgress(value=0.0, bar_style='info', description='Progress:', layout=Layout(height='25px', width='50%'),…"
      ]
     },
     "metadata": {},
     "output_type": "display_data"
    },
    {
     "name": "stdout",
     "output_type": "stream",
     "text": [
      "+--------------------+----+---+----+-----+----+-------+\n",
      "|          start_time|hour|day|week|month|year|weekday|\n",
      "+--------------------+----+---+----+-----+----+-------+\n",
      "|2018-11-15 00:30:...|   0| 15|  46|   11|2018|      5|\n",
      "|2018-11-15 00:41:...|   0| 15|  46|   11|2018|      5|\n",
      "|2018-11-15 00:45:...|   0| 15|  46|   11|2018|      5|\n",
      "|2018-11-15 03:44:...|   3| 15|  46|   11|2018|      5|\n",
      "|2018-11-15 05:48:...|   5| 15|  46|   11|2018|      5|\n",
      "+--------------------+----+---+----+-----+----+-------+\n",
      "only showing top 5 rows\n",
      "\n",
      "root\n",
      " |-- start_time: timestamp (nullable = true)\n",
      " |-- hour: integer (nullable = true)\n",
      " |-- day: integer (nullable = true)\n",
      " |-- week: integer (nullable = true)\n",
      " |-- month: integer (nullable = true)\n",
      " |-- year: integer (nullable = true)\n",
      " |-- weekday: integer (nullable = true)\n",
      "\n",
      "+-------+------------------+------------------+------------------+--------------------+------+------------------+\n",
      "|summary|              hour|               day|              week|               month|  year|           weekday|\n",
      "+-------+------------------+------------------+------------------+--------------------+------+------------------+\n",
      "|  count|              6820|              6820|              6820|                6820|  6820|              6820|\n",
      "|   mean|13.477565982404693|17.258797653958943| 46.38152492668622|                11.0|2018.0| 4.181671554252199|\n",
      "| stddev| 5.890972654855332| 8.108808928984303|1.1835054563000809|7.870064969394616...|   0.0|1.7275112724391686|\n",
      "|    min|                 0|                 1|                44|                  11|  2018|                 1|\n",
      "|    max|                23|                30|                48|                  11|  2018|                 7|\n",
      "+-------+------------------+------------------+------------------+--------------------+------+------------------+"
     ]
    }
   ],
   "source": [
    "time_table = df_nextsong.select('start_time')\\\n",
    "    .withColumn('hour', hour('start_time'))\\\n",
    "    .withColumn('day', dayofmonth('start_time'))\\\n",
    "    .withColumn('week', weekofyear('start_time'))\\\n",
    "    .withColumn('month', month('start_time'))\\\n",
    "    .withColumn('year', year('start_time'))\\\n",
    "    .withColumn('weekday', dayofweek('start_time'))\n",
    "time_table.show(5)\n",
    "time_table.printSchema()\n",
    "time_table.describe().show()"
   ]
  },
  {
   "cell_type": "markdown",
   "metadata": {
    "editable": true
   },
   "source": [
    "### Create Parquet files"
   ]
  },
  {
   "cell_type": "code",
   "execution_count": 34,
   "metadata": {
    "editable": true
   },
   "outputs": [
    {
     "data": {
      "application/vnd.jupyter.widget-view+json": {
       "model_id": "93952e9dd01049aa96b45ce299fd3863",
       "version_major": 2,
       "version_minor": 0
      },
      "text/plain": [
       "VBox()"
      ]
     },
     "metadata": {},
     "output_type": "display_data"
    },
    {
     "data": {
      "application/vnd.jupyter.widget-view+json": {
       "model_id": "",
       "version_major": 2,
       "version_minor": 0
      },
      "text/plain": [
       "FloatProgress(value=0.0, bar_style='info', description='Progress:', layout=Layout(height='25px', width='50%'),…"
      ]
     },
     "metadata": {},
     "output_type": "display_data"
    }
   ],
   "source": [
    "time_table.write.partitionBy('year', 'month').mode(\"overwrite\").parquet('s3://sparkifydb-data/time')"
   ]
  },
  {
   "cell_type": "code",
   "execution_count": null,
   "metadata": {
    "editable": true
   },
   "outputs": [],
   "source": []
  },
  {
   "cell_type": "markdown",
   "metadata": {
    "editable": true
   },
   "source": [
    "# Songplays table"
   ]
  },
  {
   "cell_type": "code",
   "execution_count": 35,
   "metadata": {
    "editable": true
   },
   "outputs": [
    {
     "data": {
      "application/vnd.jupyter.widget-view+json": {
       "model_id": "e3e9cafceb7b4327974d76d654665088",
       "version_major": 2,
       "version_minor": 0
      },
      "text/plain": [
       "VBox()"
      ]
     },
     "metadata": {},
     "output_type": "display_data"
    },
    {
     "data": {
      "application/vnd.jupyter.widget-view+json": {
       "model_id": "",
       "version_major": 2,
       "version_minor": 0
      },
      "text/plain": [
       "FloatProgress(value=0.0, bar_style='info', description='Progress:', layout=Layout(height='25px', width='50%'),…"
      ]
     },
     "metadata": {},
     "output_type": "display_data"
    },
    {
     "name": "stdout",
     "output_type": "stream",
     "text": [
      "root\n",
      " |-- song_id: string (nullable = true)\n",
      " |-- title: string (nullable = true)\n",
      " |-- artist_id: string (nullable = true)\n",
      "\n",
      "+------------------+--------------------+------------------+\n",
      "|           song_id|               title|         artist_id|\n",
      "+------------------+--------------------+------------------+\n",
      "|SODUMDU12AC468A22B|We're Skrewed (Ot...|ARHOSMU1242078130D|\n",
      "|SOTCIHX12A8C13DDD2|Finally_ as that ...|ARYOIZG1187FB41E30|\n",
      "|SOPSXLI12A6D4FA418|Practical Cats - ...|ARR79V31187FB5B96E|\n",
      "|SOUFBFK12A8C13D668|String Quartets O...|ARAILTA11F4C840A06|\n",
      "|SOROAMT12A8C13C6D0|Me gustan mas los...|ARWUDTF1187B9AA096|\n",
      "+------------------+--------------------+------------------+\n",
      "only showing top 5 rows"
     ]
    }
   ],
   "source": [
    "# Read in song data from partitioned parquet files\n",
    "song_df = spark.read.parquet('s3://sparkifydb-data/songs').select('song_id', 'title', 'artist_id')\n",
    "song_df.printSchema()\n",
    "song_df.show(5)"
   ]
  },
  {
   "cell_type": "code",
   "execution_count": 36,
   "metadata": {
    "editable": true
   },
   "outputs": [
    {
     "data": {
      "application/vnd.jupyter.widget-view+json": {
       "model_id": "b4107917bc3d4d00a94d574d45dc83fd",
       "version_major": 2,
       "version_minor": 0
      },
      "text/plain": [
       "VBox()"
      ]
     },
     "metadata": {},
     "output_type": "display_data"
    },
    {
     "data": {
      "application/vnd.jupyter.widget-view+json": {
       "model_id": "",
       "version_major": 2,
       "version_minor": 0
      },
      "text/plain": [
       "FloatProgress(value=0.0, bar_style='info', description='Progress:', layout=Layout(height='25px', width='50%'),…"
      ]
     },
     "metadata": {},
     "output_type": "display_data"
    },
    {
     "name": "stdout",
     "output_type": "stream",
     "text": [
      "root\n",
      " |-- artist_id: string (nullable = true)\n",
      " |-- artist_name: string (nullable = true)\n",
      " |-- artist_location: string (nullable = true)\n",
      " |-- artist_latitude: double (nullable = true)\n",
      " |-- artist_longitude: double (nullable = true)\n",
      "\n",
      "+------------------+--------------------+--------------------+---------------+----------------+\n",
      "|         artist_id|         artist_name|     artist_location|artist_latitude|artist_longitude|\n",
      "+------------------+--------------------+--------------------+---------------+----------------+\n",
      "|ARIBQJ21187FB48B54| Alban Berg Quartett|                    |           null|            null|\n",
      "|ARV3K201187FB3A680|       Helen Shapiro|Bethnal Green, Lo...|       51.52668|        -0.06257|\n",
      "|AR3QFYG1187B992B2E|     Michelle Wright|Morpeth, Ontario,...|       42.39336|       -81.84348|\n",
      "|AR0WBBL1187FB4677D|Cute Is What We A...|         Buffalo, NY|       42.88544|       -78.87846|\n",
      "|ARZORKK11E2835CDA4|   Vincent Vallières|          Sherbrooke|       45.40326|       -71.88893|\n",
      "+------------------+--------------------+--------------------+---------------+----------------+\n",
      "only showing top 5 rows"
     ]
    }
   ],
   "source": [
    "# Read in artist data from partitioned parquet files\n",
    "artists_df = spark.read.parquet('s3://sparkifydb-data/artists')\n",
    "artists_df.printSchema()\n",
    "artists_df.show(5)"
   ]
  },
  {
   "cell_type": "code",
   "execution_count": 38,
   "metadata": {
    "editable": true
   },
   "outputs": [
    {
     "data": {
      "application/vnd.jupyter.widget-view+json": {
       "model_id": "cf0cbfa74c0048d3976e7381776acc3a",
       "version_major": 2,
       "version_minor": 0
      },
      "text/plain": [
       "VBox()"
      ]
     },
     "metadata": {},
     "output_type": "display_data"
    },
    {
     "data": {
      "application/vnd.jupyter.widget-view+json": {
       "model_id": "",
       "version_major": 2,
       "version_minor": 0
      },
      "text/plain": [
       "FloatProgress(value=0.0, bar_style='info', description='Progress:', layout=Layout(height='25px', width='50%'),…"
      ]
     },
     "metadata": {},
     "output_type": "display_data"
    },
    {
     "name": "stdout",
     "output_type": "stream",
     "text": [
      "+------------------+------------------+--------------------+--------------------+---------------+---------------+----------------+\n",
      "|         artist_id|           song_id|               title|         artist_name|artist_location|artist_latitude|artist_longitude|\n",
      "+------------------+------------------+--------------------+--------------------+---------------+---------------+----------------+\n",
      "|ARHOSMU1242078130D|SODUMDU12AC468A22B|We're Skrewed (Ot...|         All Leather|               |           null|            null|\n",
      "|ARYOIZG1187FB41E30|SOTCIHX12A8C13DDD2|Finally_ as that ...|        Red Sparowes|Los Angeles, CA|       34.05349|      -118.24532|\n",
      "|ARR79V31187FB5B96E|SOPSXLI12A6D4FA418|Practical Cats - ...|Robert Donat/Phil...|               |           null|            null|\n",
      "|ARAILTA11F4C840A06|SOUFBFK12A8C13D668|String Quartets O...|Endellion String ...|               |           null|            null|\n",
      "|ARWUDTF1187B9AA096|SOROAMT12A8C13C6D0|Me gustan mas los...|          Albertucho|               |           null|            null|\n",
      "+------------------+------------------+--------------------+--------------------+---------------+---------------+----------------+\n",
      "only showing top 5 rows"
     ]
    }
   ],
   "source": [
    "# Create joined dataframe from song_df & artist_df\n",
    "song_artist = song_df.join(artists_df, [\"artist_id\"])\n",
    "song_artist.show(5)"
   ]
  },
  {
   "cell_type": "markdown",
   "metadata": {
    "editable": true
   },
   "source": [
    "### Create table"
   ]
  },
  {
   "cell_type": "code",
   "execution_count": 42,
   "metadata": {
    "editable": true
   },
   "outputs": [
    {
     "data": {
      "application/vnd.jupyter.widget-view+json": {
       "model_id": "dcbdb285ca6d478fadefdf2abe813e02",
       "version_major": 2,
       "version_minor": 0
      },
      "text/plain": [
       "VBox()"
      ]
     },
     "metadata": {},
     "output_type": "display_data"
    },
    {
     "data": {
      "application/vnd.jupyter.widget-view+json": {
       "model_id": "",
       "version_major": 2,
       "version_minor": 0
      },
      "text/plain": [
       "FloatProgress(value=0.0, bar_style='info', description='Progress:', layout=Layout(height='25px', width='50%'),…"
      ]
     },
     "metadata": {},
     "output_type": "display_data"
    },
    {
     "name": "stdout",
     "output_type": "stream",
     "text": [
      "root\n",
      " |-- start_time: timestamp (nullable = true)\n",
      " |-- year: integer (nullable = true)\n",
      " |-- month: integer (nullable = true)\n",
      " |-- user_id: string (nullable = true)\n",
      " |-- level: string (nullable = true)\n",
      " |-- song_id: string (nullable = true)\n",
      " |-- artist_id: string (nullable = true)\n",
      " |-- session_id: long (nullable = true)\n",
      " |-- location: string (nullable = true)\n",
      " |-- user_agent: string (nullable = true)\n",
      " |-- songplay_id: long (nullable = false)\n",
      "\n",
      "+--------------------+----+-----+-------+-----+-------+---------+----------+--------------------+--------------------+-----------+\n",
      "|          start_time|year|month|user_id|level|song_id|artist_id|session_id|            location|          user_agent|songplay_id|\n",
      "+--------------------+----+-----+-------+-----+-------+---------+----------+--------------------+--------------------+-----------+\n",
      "|2018-11-07 00:17:...|2018|   11|     97| paid|   null|     null|       293|Lansing-East Lans...|\"Mozilla/5.0 (X11...|          0|\n",
      "|2018-11-26 10:52:...|2018|   11|     15| paid|   null|     null|       834|Chicago-Napervill...|\"Mozilla/5.0 (X11...|          1|\n",
      "|2018-11-15 10:56:...|2018|   11|     80| paid|   null|     null|       611|Portland-South Po...|\"Mozilla/5.0 (Mac...|          2|\n",
      "|2018-11-23 19:57:...|2018|   11|     85| paid|   null|     null|       891|       Red Bluff, CA|\"Mozilla/5.0 (Mac...|          3|\n",
      "|2018-11-08 14:54:...|2018|   11|     29| paid|   null|     null|       372|Atlanta-Sandy Spr...|\"Mozilla/5.0 (Mac...|          4|\n",
      "+--------------------+----+-----+-------+-----+-------+---------+----------+--------------------+--------------------+-----------+\n",
      "only showing top 5 rows\n",
      "\n",
      "+-------+------+-----+------------------+-----+------------------+------------------+-----------------+--------------------+--------------------+--------------------+\n",
      "|summary|  year|month|           user_id|level|           song_id|         artist_id|       session_id|            location|          user_agent|         songplay_id|\n",
      "+-------+------+-----+------------------+-----+------------------+------------------+-----------------+--------------------+--------------------+--------------------+\n",
      "|  count|  6834| 6834|              6834| 6834|               333|               333|             6834|                6834|                6834|                6834|\n",
      "|   mean|2018.0| 11.0|54.674568334796604| null|              null|              null| 599.530436055019|                null|                null|8.510257104062413E11|\n",
      "| stddev|   0.0|  0.0|28.163766652953957| null|              null|              null|284.8872305129986|                null|                null|5.002550268058082E11|\n",
      "|    min|  2018|   11|                10| free|SOABIXP12A8C135F75|AR048JZ1187B9AEB85|                3|Atlanta-Sandy Spr...|\"Mozilla/5.0 (Mac...|                   0|\n",
      "|    max|  2018|   11|                99| paid|SOZYHNC12A8C13B9D0|ARZNLRE1187B99B6C3|             1114|       Yuba City, CA|Mozilla/5.0 (comp...|       1709396983833|\n",
      "+-------+------+-----+------------------+-----+------------------+------------------+-----------------+--------------------+--------------------+--------------------+"
     ]
    }
   ],
   "source": [
    "songplays_table = df_nextsong.join(song_artist, (df_nextsong.song == song_artist.title) & (df_nextsong.artist == song_artist.artist_name), 'left')\\\n",
    "                    .join(time_table, ['start_time'])\\\n",
    "                    .select(col(\"start_time\"),\n",
    "                                col(\"year\"),\n",
    "                                col(\"month\"),\n",
    "                                col(\"userId\").alias(\"user_id\"),\n",
    "                                col(\"level\"),\n",
    "                                col(\"song_id\"),\n",
    "                                col(\"artist_id\"),\n",
    "                                col(\"sessionId\").alias('session_id'),\n",
    "                                col(\"location\"),\n",
    "                                col(\"userAgent\").alias(\"user_agent\"))\\\n",
    "                    .withColumn(\"songplay_id\", monotonically_increasing_id())\n",
    "songplays_table.printSchema()\n",
    "songplays_table.show(5)\n",
    "songplays_table.describe().show(5)"
   ]
  },
  {
   "cell_type": "markdown",
   "metadata": {
    "editable": true
   },
   "source": [
    "### Create Parquet files"
   ]
  },
  {
   "cell_type": "code",
   "execution_count": 43,
   "metadata": {
    "editable": true
   },
   "outputs": [
    {
     "data": {
      "application/vnd.jupyter.widget-view+json": {
       "model_id": "726f30354896410f9723915eb267b38f",
       "version_major": 2,
       "version_minor": 0
      },
      "text/plain": [
       "VBox()"
      ]
     },
     "metadata": {},
     "output_type": "display_data"
    },
    {
     "data": {
      "application/vnd.jupyter.widget-view+json": {
       "model_id": "",
       "version_major": 2,
       "version_minor": 0
      },
      "text/plain": [
       "FloatProgress(value=0.0, bar_style='info', description='Progress:', layout=Layout(height='25px', width='50%'),…"
      ]
     },
     "metadata": {},
     "output_type": "display_data"
    }
   ],
   "source": [
    "songplays_table.write.partitionBy('year', 'month').mode('overwrite').parquet('s3://sparkifydb-data/songplays')"
   ]
  },
  {
   "cell_type": "code",
   "execution_count": null,
   "metadata": {
    "editable": true
   },
   "outputs": [],
   "source": []
  },
  {
   "cell_type": "code",
   "execution_count": null,
   "metadata": {
    "editable": true
   },
   "outputs": [],
   "source": []
  }
 ],
 "metadata": {
  "kernelspec": {
   "display_name": "Python 3",
   "language": "python",
   "name": "python3"
  },
  "language_info": {
   "codemirror_mode": {
    "name": "ipython",
    "version": 3
   },
   "file_extension": ".py",
   "mimetype": "text/x-python",
   "name": "python",
   "nbconvert_exporter": "python",
   "pygments_lexer": "ipython3",
   "version": "3.6.3"
  }
 },
 "nbformat": 4,
 "nbformat_minor": 5
}
